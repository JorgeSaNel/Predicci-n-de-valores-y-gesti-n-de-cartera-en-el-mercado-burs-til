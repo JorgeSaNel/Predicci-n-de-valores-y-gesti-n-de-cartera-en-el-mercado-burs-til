{
  "nbformat": 4,
  "nbformat_minor": 0,
  "metadata": {
    "colab": {
      "name": "5_Sheets_Stock_Prediction.ipynb",
      "provenance": [],
      "collapsed_sections": []
    },
    "kernelspec": {
      "name": "python3",
      "display_name": "Python 3"
    },
    "language_info": {
      "name": "python"
    },
    "accelerator": "GPU"
  },
  "cells": [
    {
      "cell_type": "markdown",
      "source": [
        "# Importación"
      ],
      "metadata": {
        "id": "7a4n8t6oUIW1"
      }
    },
    {
      "cell_type": "code",
      "source": [
        "!pip install yfinance"
      ],
      "metadata": {
        "id": "GWfiikYqYU1P",
        "colab": {
          "base_uri": "https://localhost:8080/"
        },
        "outputId": "44f2adaa-f1e4-4f62-c913-11720833496d"
      },
      "execution_count": 31,
      "outputs": [
        {
          "output_type": "stream",
          "name": "stdout",
          "text": [
            "Requirement already satisfied: yfinance in /usr/local/lib/python3.7/dist-packages (0.1.68)\n",
            "Requirement already satisfied: numpy>=1.15 in /usr/local/lib/python3.7/dist-packages (from yfinance) (1.19.5)\n",
            "Requirement already satisfied: pandas>=0.24 in /usr/local/lib/python3.7/dist-packages (from yfinance) (1.1.5)\n",
            "Requirement already satisfied: requests>=2.26 in /usr/local/lib/python3.7/dist-packages (from yfinance) (2.26.0)\n",
            "Requirement already satisfied: lxml>=4.5.1 in /usr/local/lib/python3.7/dist-packages (from yfinance) (4.7.1)\n",
            "Requirement already satisfied: multitasking>=0.0.7 in /usr/local/lib/python3.7/dist-packages (from yfinance) (0.0.10)\n",
            "Requirement already satisfied: python-dateutil>=2.7.3 in /usr/local/lib/python3.7/dist-packages (from pandas>=0.24->yfinance) (2.8.2)\n",
            "Requirement already satisfied: pytz>=2017.2 in /usr/local/lib/python3.7/dist-packages (from pandas>=0.24->yfinance) (2018.9)\n",
            "Requirement already satisfied: six>=1.5 in /usr/local/lib/python3.7/dist-packages (from python-dateutil>=2.7.3->pandas>=0.24->yfinance) (1.15.0)\n",
            "Requirement already satisfied: idna<4,>=2.5 in /usr/local/lib/python3.7/dist-packages (from requests>=2.26->yfinance) (2.10)\n",
            "Requirement already satisfied: charset-normalizer~=2.0.0 in /usr/local/lib/python3.7/dist-packages (from requests>=2.26->yfinance) (2.0.8)\n",
            "Requirement already satisfied: urllib3<1.27,>=1.21.1 in /usr/local/lib/python3.7/dist-packages (from requests>=2.26->yfinance) (1.24.3)\n",
            "Requirement already satisfied: certifi>=2017.4.17 in /usr/local/lib/python3.7/dist-packages (from requests>=2.26->yfinance) (2021.10.8)\n"
          ]
        }
      ]
    },
    {
      "cell_type": "code",
      "execution_count": 2,
      "metadata": {
        "id": "bdyRFV0eP2FV"
      },
      "outputs": [],
      "source": [
        "import pandas as pd\n",
        "import yfinance as yf\n",
        "from datetime import datetime\n",
        "from dateutil.relativedelta import relativedelta\n",
        "\n",
        "from google.colab import auth\n",
        "auth.authenticate_user()\n",
        "\n",
        "import gspread\n",
        "from oauth2client.client import GoogleCredentials"
      ]
    },
    {
      "cell_type": "code",
      "source": [
        "# Importar el fichero import_data_stock_prediction.py, el cual se conecta a Yahoo Finance e importa los datos\n",
        "from google.colab import drive\n",
        "drive.mount('/content/drive')\n",
        "\n",
        "execfile('/content/drive/MyDrive/StockPrediction/import_data_stock_prediction.py')"
      ],
      "metadata": {
        "colab": {
          "base_uri": "https://localhost:8080/"
        },
        "id": "_s20BRMsUEHh",
        "outputId": "e56a334a-014f-4714-c8fe-0d7ddceb6c26"
      },
      "execution_count": 3,
      "outputs": [
        {
          "output_type": "stream",
          "name": "stdout",
          "text": [
            "Mounted at /content/drive\n"
          ]
        }
      ]
    },
    {
      "cell_type": "code",
      "source": [
        "# Importar el ficher lstm_stock_prediction.py, el cual contiene el modelo predictivo LSTM\n",
        "drive.mount('/content/drive', force_remount=True)\n",
        "execfile('/content/drive/MyDrive/StockPrediction/lstm_stock_prediction.py')"
      ],
      "metadata": {
        "colab": {
          "base_uri": "https://localhost:8080/"
        },
        "id": "KWhveGOYZ13K",
        "outputId": "a55c35d8-501e-42c0-95b5-f1a1be94c9b7"
      },
      "execution_count": 4,
      "outputs": [
        {
          "output_type": "stream",
          "name": "stdout",
          "text": [
            "Mounted at /content/drive\n",
            "Drive already mounted at /content/drive; to attempt to forcibly remount, call drive.mount(\"/content/drive\", force_remount=True).\n"
          ]
        }
      ]
    },
    {
      "cell_type": "code",
      "source": [
        "# Se comprueba que se tiene activado la aceleración con GPU\n",
        "print(\"GPU available: \", tf.config.list_physical_devices('GPU'))"
      ],
      "metadata": {
        "colab": {
          "base_uri": "https://localhost:8080/"
        },
        "id": "a9x5osNe2fyf",
        "outputId": "d366e65b-e917-41d9-ee7f-7394d31b36b3"
      },
      "execution_count": 5,
      "outputs": [
        {
          "output_type": "stream",
          "name": "stdout",
          "text": [
            "GPU available:  [PhysicalDevice(name='/physical_device:GPU:0', device_type='GPU')]\n"
          ]
        }
      ]
    },
    {
      "cell_type": "markdown",
      "source": [
        "# Leer de Google Sheets"
      ],
      "metadata": {
        "id": "Wp0OYv_6UJlO"
      }
    },
    {
      "cell_type": "code",
      "source": [
        "def OpenSheet(sheetName):\n",
        "    gc = gspread.authorize(GoogleCredentials.get_application_default())\n",
        "\n",
        "    worksheet = gc.open('Cartera StockPrediction').worksheet(sheetName)\n",
        "\n",
        "    # get_all_values gives a list of rows.\n",
        "    rows = worksheet.get_all_values()\n",
        "\n",
        "    # Convert to a DataFrame and render.\n",
        "    stock_wallet = pd.DataFrame.from_records(rows)\n",
        "    stock_wallet.columns = stock_wallet.iloc[0]\n",
        "    stock_wallet = stock_wallet.iloc[1: , :]\n",
        "    return worksheet, stock_wallet"
      ],
      "metadata": {
        "id": "A2L68NpiQGBG"
      },
      "execution_count": 6,
      "outputs": []
    },
    {
      "cell_type": "code",
      "source": [
        "worksheet, stock_wallet = OpenSheet('Prediccion 27122021')\n",
        "stock_wallet.iloc[0:]['Ticker'].head(5)"
      ],
      "metadata": {
        "colab": {
          "base_uri": "https://localhost:8080/"
        },
        "id": "KV1WTFfvJk3W",
        "outputId": "37cf4a45-7d55-4283-8842-9d82c2257394"
      },
      "execution_count": 7,
      "outputs": [
        {
          "output_type": "execute_result",
          "data": {
            "text/plain": [
              "1       A\n",
              "2     AAL\n",
              "3     AAP\n",
              "4    AAPL\n",
              "5    ABBV\n",
              "Name: Ticker, dtype: object"
            ]
          },
          "metadata": {},
          "execution_count": 7
        }
      ]
    },
    {
      "cell_type": "markdown",
      "source": [
        "# Analizar una compañía"
      ],
      "metadata": {
        "id": "5N87YTs8K4oC"
      }
    },
    {
      "cell_type": "code",
      "source": [
        "tickerSymbol = 'AAPL'\n",
        "\n",
        "# Obtenemos los datos desde el día actual hasta hace 5 años\n",
        "one_year_ago = datetime.now() - relativedelta(years=5)\n",
        "start_date = one_year_ago.strftime('%Y-%m-%d')\n",
        "\n",
        "#one_year_ago = datetime.now() - relativedelta(years=1)\n",
        "end_date = datetime.now().strftime('%Y-%m-%d')\n",
        "\n",
        "# Se obtiene el datafram de la empresa seleccionada y en el rango de fechas\n",
        "tickerDf = GetStockDataByTicker(tickerSymbol, start_date, end_date)"
      ],
      "metadata": {
        "id": "i0EATJd5K6zS"
      },
      "execution_count": 19,
      "outputs": []
    },
    {
      "cell_type": "code",
      "source": [
        "GetStockInformationByTicker(tickerSymbol, start_date, end_date)"
      ],
      "metadata": {
        "colab": {
          "base_uri": "https://localhost:8080/",
          "height": 231
        },
        "id": "vIfW64wxLNAR",
        "outputId": "ad941405-75cc-439d-aba9-b7a10583d2cc"
      },
      "execution_count": 20,
      "outputs": [
        {
          "output_type": "execute_result",
          "data": {
            "text/html": [
              "\n",
              "  <div id=\"df-b9885bed-9da0-48c7-abba-bfb18e1b1a93\">\n",
              "    <div class=\"colab-df-container\">\n",
              "      <div>\n",
              "<style scoped>\n",
              "    .dataframe tbody tr th:only-of-type {\n",
              "        vertical-align: middle;\n",
              "    }\n",
              "\n",
              "    .dataframe tbody tr th {\n",
              "        vertical-align: top;\n",
              "    }\n",
              "\n",
              "    .dataframe thead th {\n",
              "        text-align: right;\n",
              "    }\n",
              "</style>\n",
              "<table border=\"1\" class=\"dataframe\">\n",
              "  <thead>\n",
              "    <tr style=\"text-align: right;\">\n",
              "      <th></th>\n",
              "      <th>Ticker</th>\n",
              "      <th>Short Name</th>\n",
              "      <th>Sector</th>\n",
              "      <th>Industry</th>\n",
              "      <th>Recommendation</th>\n",
              "      <th>Recommendation Mean</th>\n",
              "      <th>Target Low Price</th>\n",
              "      <th>Target High Price</th>\n",
              "      <th>Target Mean Price</th>\n",
              "      <th>Current Price</th>\n",
              "      <th>%</th>\n",
              "      <th>Volume</th>\n",
              "      <th>Average Volume</th>\n",
              "      <th>EBITDA</th>\n",
              "      <th>EBITDA Margins</th>\n",
              "      <th>Fecha Actualización</th>\n",
              "      <th>52 Week Change</th>\n",
              "      <th>SMA20</th>\n",
              "      <th>SMA50</th>\n",
              "      <th>SMA100</th>\n",
              "      <th>SMA200</th>\n",
              "      <th>EMA10</th>\n",
              "    </tr>\n",
              "  </thead>\n",
              "  <tbody>\n",
              "    <tr>\n",
              "      <th>0</th>\n",
              "      <td>CL</td>\n",
              "      <td>Colgate-Palmolive Company</td>\n",
              "      <td>Consumer Defensive</td>\n",
              "      <td>Household &amp; Personal Products</td>\n",
              "      <td>hold</td>\n",
              "      <td>2.8</td>\n",
              "      <td>66</td>\n",
              "      <td>98</td>\n",
              "      <td>86.6</td>\n",
              "      <td>82.655</td>\n",
              "      <td>0</td>\n",
              "      <td>1568982</td>\n",
              "      <td>4293341</td>\n",
              "      <td>4407000064</td>\n",
              "      <td>0.25412</td>\n",
              "      <td>2022-01-02 16:09</td>\n",
              "      <td>None</td>\n",
              "      <td>81.7</td>\n",
              "      <td>78.81</td>\n",
              "      <td>77.67</td>\n",
              "      <td>79.07</td>\n",
              "      <td>83.66</td>\n",
              "    </tr>\n",
              "  </tbody>\n",
              "</table>\n",
              "</div>\n",
              "      <button class=\"colab-df-convert\" onclick=\"convertToInteractive('df-b9885bed-9da0-48c7-abba-bfb18e1b1a93')\"\n",
              "              title=\"Convert this dataframe to an interactive table.\"\n",
              "              style=\"display:none;\">\n",
              "        \n",
              "  <svg xmlns=\"http://www.w3.org/2000/svg\" height=\"24px\"viewBox=\"0 0 24 24\"\n",
              "       width=\"24px\">\n",
              "    <path d=\"M0 0h24v24H0V0z\" fill=\"none\"/>\n",
              "    <path d=\"M18.56 5.44l.94 2.06.94-2.06 2.06-.94-2.06-.94-.94-2.06-.94 2.06-2.06.94zm-11 1L8.5 8.5l.94-2.06 2.06-.94-2.06-.94L8.5 2.5l-.94 2.06-2.06.94zm10 10l.94 2.06.94-2.06 2.06-.94-2.06-.94-.94-2.06-.94 2.06-2.06.94z\"/><path d=\"M17.41 7.96l-1.37-1.37c-.4-.4-.92-.59-1.43-.59-.52 0-1.04.2-1.43.59L10.3 9.45l-7.72 7.72c-.78.78-.78 2.05 0 2.83L4 21.41c.39.39.9.59 1.41.59.51 0 1.02-.2 1.41-.59l7.78-7.78 2.81-2.81c.8-.78.8-2.07 0-2.86zM5.41 20L4 18.59l7.72-7.72 1.47 1.35L5.41 20z\"/>\n",
              "  </svg>\n",
              "      </button>\n",
              "      \n",
              "  <style>\n",
              "    .colab-df-container {\n",
              "      display:flex;\n",
              "      flex-wrap:wrap;\n",
              "      gap: 12px;\n",
              "    }\n",
              "\n",
              "    .colab-df-convert {\n",
              "      background-color: #E8F0FE;\n",
              "      border: none;\n",
              "      border-radius: 50%;\n",
              "      cursor: pointer;\n",
              "      display: none;\n",
              "      fill: #1967D2;\n",
              "      height: 32px;\n",
              "      padding: 0 0 0 0;\n",
              "      width: 32px;\n",
              "    }\n",
              "\n",
              "    .colab-df-convert:hover {\n",
              "      background-color: #E2EBFA;\n",
              "      box-shadow: 0px 1px 2px rgba(60, 64, 67, 0.3), 0px 1px 3px 1px rgba(60, 64, 67, 0.15);\n",
              "      fill: #174EA6;\n",
              "    }\n",
              "\n",
              "    [theme=dark] .colab-df-convert {\n",
              "      background-color: #3B4455;\n",
              "      fill: #D2E3FC;\n",
              "    }\n",
              "\n",
              "    [theme=dark] .colab-df-convert:hover {\n",
              "      background-color: #434B5C;\n",
              "      box-shadow: 0px 1px 3px 1px rgba(0, 0, 0, 0.15);\n",
              "      filter: drop-shadow(0px 1px 2px rgba(0, 0, 0, 0.3));\n",
              "      fill: #FFFFFF;\n",
              "    }\n",
              "  </style>\n",
              "\n",
              "      <script>\n",
              "        const buttonEl =\n",
              "          document.querySelector('#df-b9885bed-9da0-48c7-abba-bfb18e1b1a93 button.colab-df-convert');\n",
              "        buttonEl.style.display =\n",
              "          google.colab.kernel.accessAllowed ? 'block' : 'none';\n",
              "\n",
              "        async function convertToInteractive(key) {\n",
              "          const element = document.querySelector('#df-b9885bed-9da0-48c7-abba-bfb18e1b1a93');\n",
              "          const dataTable =\n",
              "            await google.colab.kernel.invokeFunction('convertToInteractive',\n",
              "                                                     [key], {});\n",
              "          if (!dataTable) return;\n",
              "\n",
              "          const docLinkHtml = 'Like what you see? Visit the ' +\n",
              "            '<a target=\"_blank\" href=https://colab.research.google.com/notebooks/data_table.ipynb>data table notebook</a>'\n",
              "            + ' to learn more about interactive tables.';\n",
              "          element.innerHTML = '';\n",
              "          dataTable['output_type'] = 'display_data';\n",
              "          await google.colab.output.renderOutput(dataTable, element);\n",
              "          const docLink = document.createElement('div');\n",
              "          docLink.innerHTML = docLinkHtml;\n",
              "          element.appendChild(docLink);\n",
              "        }\n",
              "      </script>\n",
              "    </div>\n",
              "  </div>\n",
              "  "
            ],
            "text/plain": [
              "  Ticker                 Short Name              Sector  ... SMA100 SMA200  EMA10\n",
              "0     CL  Colgate-Palmolive Company  Consumer Defensive  ...  77.67  79.07  83.66\n",
              "\n",
              "[1 rows x 22 columns]"
            ]
          },
          "metadata": {},
          "execution_count": 20
        }
      ]
    },
    {
      "cell_type": "code",
      "source": [
        "Graph_StockEvolutionByTime(tickerSymbol, tickerDf, 180)"
      ],
      "metadata": {
        "colab": {
          "base_uri": "https://localhost:8080/",
          "height": 499
        },
        "id": "aI9k9EtPLmKs",
        "outputId": "dbb7cc83-9932-4959-c75c-b6e3f90a3c6d"
      },
      "execution_count": 10,
      "outputs": [
        {
          "output_type": "display_data",
          "data": {
            "image/png": "[encoded data removed]",
            "text/plain": [
              "<Figure size 1008x576 with 1 Axes>"
            ]
          },
          "metadata": {
            "needs_background": "light"
          }
        }
      ]
    },
    {
      "cell_type": "code",
      "source": [
        "x_train, y_train, dataset, training_data_len, scaler, scaled_data = TransformData(tickerDf, split_data)\n",
        "LSTM_model = LSTM_Model(x_train, model_dropout, model_neuron, model_learning_rate)\n",
        "LSTM_history = LSTM_fit(LSTM_model, x_train, y_train, model_epochs, model_batch_size)\n",
        "\n",
        "predictions, y_test = LSTM_Predictions(LSTM_model, training_data_len, scaled_data, scaler, dataset)\n",
        "LSTM_PlotPredictions(tickerDf.filter(['Adj Close']), training_data_len, predictions)\n",
        "print(\"RSME = \", LSTM_RMSE(predictions, y_test))"
      ],
      "metadata": {
        "colab": {
          "base_uri": "https://localhost:8080/",
          "height": 539
        },
        "id": "3DL08LMFLNgP",
        "outputId": "33685e67-f06c-45dd-b8b4-94b70194594c"
      },
      "execution_count": 13,
      "outputs": [
        {
          "output_type": "display_data",
          "data": {
            "image/png": "[encoded data removed]",
            "text/plain": [
              "<Figure size 1152x576 with 1 Axes>"
            ]
          },
          "metadata": {
            "needs_background": "light"
          }
        },
        {
          "output_type": "stream",
          "name": "stdout",
          "text": [
            "RSME =  14.703392606332482\n"
          ]
        }
      ]
    },
    {
      "cell_type": "markdown",
      "source": [
        "# Predicción en Bucle"
      ],
      "metadata": {
        "id": "-VycV2LSWxz1"
      }
    },
    {
      "cell_type": "markdown",
      "source": [
        "Parámetros de predicción"
      ],
      "metadata": {
        "id": "UyidXA-ML8kV"
      }
    },
    {
      "cell_type": "code",
      "source": [
        "train_last_days = 60\n",
        "split_data = 0.8 #80% train, 20% test\n",
        "\n",
        "model_neuron = 50\n",
        "model_epochs = 25 \n",
        "model_batch_size = 32 \n",
        "model_learning_rate = 1e-4\n",
        "model_dropout = 0.2"
      ],
      "metadata": {
        "id": "TQaMs3MRL7ZT"
      },
      "execution_count": 12,
      "outputs": []
    },
    {
      "cell_type": "code",
      "source": [
        "from random import randint\n",
        "from time import sleep\n",
        "\n",
        "# last_company = Ult numeración del excel - 2 casillas\n",
        "def PredictWeek_SP500(sheet_name,\n",
        "                        last_company,\n",
        "                        train_last_days = 60,\n",
        "                        split_data = 0.8,\n",
        "                        model_neuron = 50,\n",
        "                        model_epochs = 25,\n",
        "                        model_batch_size = 32,\n",
        "                        model_learning_rate = 1e-4,\n",
        "                        model_dropout = 0.2):\n",
        "    # Se abre la hoja de cálculo\n",
        "    worksheet, stock_wallet = OpenSheet(sheet_name)\n",
        "\n",
        "    # Obtenemos los datos desde el día actual hasta hace 5 años\n",
        "    five_year_ago = datetime.now() - relativedelta(years=5)\n",
        "    start_date = five_year_ago.strftime('%Y-%m-%d')\n",
        "    end_date = datetime.now().strftime('%Y-%m-%d')\n",
        "\n",
        "    row = last_company + 2\n",
        "    for tickerSymbol in stock_wallet.iloc[last_company:]['Ticker']:\n",
        "        tickerSymbol = tickerSymbol.replace(\".\", \"-\")\n",
        "        # Temporizador aleatorio de parada para evitar que Google Colab aborte la sesión\n",
        "        #sleep(randint(10,100))\n",
        "\n",
        "        # Se obtiene el datafram de la empresa seleccionada y en el rango de fechas\n",
        "        tickerDf = GetStockDataByTicker(tickerSymbol, start_date, end_date)\n",
        "\n",
        "        # Tratamiento de datos\n",
        "        x_train, y_train, dataset, training_data_len, scaler, scaled_data = TransformData(tickerDf, split_data)\n",
        "\n",
        "        # Entrenamiento\n",
        "        LSTM_model = LSTM_Model(x_train, model_dropout, model_neuron, model_learning_rate)\n",
        "        LSTM_history = LSTM_fit(LSTM_model, x_train, y_train, model_epochs, model_batch_size)\n",
        "\n",
        "        # Testeo\n",
        "        predictions, y_test = LSTM_Predictions(LSTM_model, training_data_len, scaled_data, scaler, dataset)\n",
        "        rsme = LSTM_RMSE(predictions, y_test)\n",
        "\n",
        "        # Actualizar lista de valores del Excel\n",
        "        worksheet.update_cell(row, 5, str(rsme).replace('.', ','))                                   # RMSE\n",
        "        \n",
        "        # Predicción de la última semana\n",
        "        column = 0\n",
        "        for predicted_day in reversed(range(1,6)):\n",
        "            day, real, predicted = LSTM_PredictNextDay(tickerDf, scaler, LSTM_model, train_last_days, predicted_day)\n",
        "            if predicted_day != 0:\n",
        "                worksheet.update_cell(row, 7+column, str(real).replace('.', ','))                  # Real\n",
        "                worksheet.update_cell(row, 8+column, str(predicted).replace('.', ','))             # Predecido\n",
        "            else:\n",
        "                worksheet.update_cell(row, 8+column, str(predicted).replace('.', ','))             # Predecido  \n",
        "            column += 3\n",
        "\n",
        "        row += 1"
      ],
      "metadata": {
        "id": "s3DigXmnW9hH"
      },
      "execution_count": 14,
      "outputs": []
    },
    {
      "cell_type": "code",
      "source": [
        "sheet_name = 'Prediccion 27122021'\n",
        "last_company = 476 - 2\n",
        "PredictWeek_SP500(sheet_name, last_company) #train_last_days, split_data, model_neuron, model_epochs, model_batch_size, model_learning_rate, model_dropout"
      ],
      "metadata": {
        "id": "7FO_aXRXC7Vz"
      },
      "execution_count": 18,
      "outputs": []
    },
    {
      "cell_type": "markdown",
      "source": [
        "# Actualizar Estudio Cartera o SP_500\n"
      ],
      "metadata": {
        "id": "jRrkQwaYODX-"
      }
    },
    {
      "cell_type": "code",
      "source": [
        "def UpdateExcelByCompany(sheetName, company, row):\n",
        "    # Fechas de Inicio y Fin para obtener los datos.\n",
        "    five_years_ago = datetime.now() - relativedelta(years=5)\n",
        "    start_date = five_years_ago.strftime('%Y-%m-%d')\n",
        "    end_date = datetime.now().strftime('%Y-%m-%d')\n",
        "\n",
        "    # Obtenemos los datos por companía y fechas\n",
        "    newCompany = GetStockInformationByTicker(company, start_date, end_date)\n",
        "\n",
        "    # Se accede al Excel\n",
        "    gc = gspread.authorize(GoogleCredentials.get_application_default())\n",
        "    worksheet = gc.open('Cartera StockPrediction').worksheet(sheetName)\n",
        "\n",
        "    # Se actualizan los valores del Excel\n",
        "    worksheet.update_cell(row, 2, str(newCompany['Short Name'][0]))                                 # Short Name\n",
        "    worksheet.update_cell(row, 3, str(newCompany['Sector'][0]))                                     # Sector\n",
        "    worksheet.update_cell(row, 4, str(newCompany['Industry'][0]))                                   # Industry\n",
        "    worksheet.update_cell(row, 5, str(newCompany['Recommendation'][0]))                             # Recommendation\n",
        "    worksheet.update_cell(row, 6, str(newCompany['Recommendation Mean'][0]).replace('.', ','))      # Recommendation Mean\n",
        "    worksheet.update_cell(row, 8, str(newCompany['Target Low Price'][0]).replace('.', ','))         # Target Low Price\n",
        "    worksheet.update_cell(row, 9, str(newCompany['Target High Price'][0]).replace('.', ','))        # Target High Price\n",
        "    worksheet.update_cell(row, 10, str(newCompany['Target Mean Price'][0]).replace('.', ','))       # Target Mean Price\n",
        "    worksheet.update_cell(row, 11, str(newCompany['52 Week Change'][0]).replace('.', ','))          # 52 Week Change\n",
        "    worksheet.update_cell(row, 14, str(newCompany['EMA10'][0]).replace('.', ','))                   # EMA10\n",
        "    worksheet.update_cell(row, 15, str(newCompany['SMA20'][0]).replace('.', ','))                   # SMA20\n",
        "    worksheet.update_cell(row, 16, str(newCompany['SMA50'][0]).replace('.', ','))                   # SMA50\n",
        "    worksheet.update_cell(row, 17, str(newCompany['SMA100'][0]).replace('.', ','))                  # SMA100\n",
        "    worksheet.update_cell(row, 18, str(newCompany['SMA200'][0]).replace('.', ','))                  # SMA200\n",
        "    worksheet.update_cell(row, 25, str(newCompany['EBITDA'][0]).replace('.', ','))                  # EBITDA\n",
        "    worksheet.update_cell(row, 26, str(newCompany['EBITDA Margins'][0]).replace('.', ','))          # EBITDA Margins\n",
        "    worksheet.update_cell(row, 27, str(newCompany['Fecha Actualización'][0]))                       # Fecha Actualización"
      ],
      "metadata": {
        "id": "mzqN37wHttVp"
      },
      "execution_count": 32,
      "outputs": []
    },
    {
      "cell_type": "code",
      "source": [
        "from random import randint\n",
        "from time import sleep\n",
        "\n",
        "# Nombre de la hoja donde escribir los datos\n",
        "# sheetName = 'Estudio Cartera'\n",
        "sheetName = 'SP_500'\n",
        "\n",
        "worksheet, stock_wallet = OpenSheet(sheetName)\n",
        "last_company = 191\n",
        "row = last_company + 2\n",
        "for company in stock_wallet.iloc[last_company:]['Ticker']:\n",
        "    wait_time = randint(7,30)\n",
        "    print(wait_time)\n",
        "    sleep(wait_time)\n",
        "    company = company.replace(\".\", \"-\")\n",
        "    \n",
        "    UpdateExcelByCompany(sheetName, company, row)\n",
        "    row += 1"
      ],
      "metadata": {
        "id": "VB33NGAfOMUG",
        "colab": {
          "base_uri": "https://localhost:8080/"
        },
        "outputId": "45fa1949-a7b0-425a-f7a0-780d45fdb12c"
      },
      "execution_count": null,
      "outputs": [
        {
          "output_type": "stream",
          "name": "stdout",
          "text": [
            "17\n",
            "28\n",
            "21\n",
            "11\n",
            "21\n",
            "13\n",
            "21\n",
            "16\n",
            "11\n",
            "24\n",
            "28\n",
            "29\n",
            "8\n",
            "24\n",
            "22\n",
            "19\n",
            "13\n",
            "28\n",
            "28\n",
            "20\n",
            "14\n",
            "17\n",
            "18\n",
            "24\n",
            "28\n",
            "30\n",
            "10\n",
            "15\n",
            "10\n",
            "18\n",
            "28\n",
            "7\n",
            "11\n",
            "20\n",
            "14\n",
            "15\n",
            "21\n",
            "12\n",
            "18\n",
            "28\n",
            "24\n",
            "21\n",
            "12\n",
            "27\n",
            "11\n",
            "27\n",
            "17\n",
            "16\n",
            "29\n",
            "22\n",
            "30\n",
            "29\n",
            "22\n",
            "16\n",
            "7\n",
            "19\n",
            "15\n",
            "22\n",
            "26\n",
            "29\n",
            "30\n",
            "10\n",
            "24\n",
            "30\n",
            "29\n",
            "21\n",
            "29\n",
            "14\n",
            "10\n",
            "23\n",
            "22\n",
            "29\n",
            "26\n",
            "9\n",
            "28\n",
            "27\n",
            "9\n",
            "15\n",
            "27\n",
            "23\n",
            "24\n",
            "16\n",
            "11\n",
            "14\n",
            "15\n",
            "14\n",
            "17\n",
            "17\n",
            "19\n",
            "24\n",
            "9\n",
            "15\n",
            "19\n",
            "21\n",
            "10\n",
            "30\n",
            "24\n",
            "11\n",
            "13\n",
            "9\n",
            "21\n",
            "24\n",
            "8\n",
            "24\n",
            "16\n",
            "16\n",
            "26\n",
            "11\n",
            "7\n",
            "28\n",
            "19\n",
            "26\n",
            "11\n",
            "26\n",
            "22\n",
            "7\n",
            "27\n",
            "23\n",
            "29\n",
            "18\n",
            "16\n",
            "28\n",
            "14\n",
            "16\n",
            "10\n",
            "11\n",
            "10\n",
            "17\n",
            "8\n",
            "25\n",
            "17\n",
            "28\n",
            "10\n",
            "17\n",
            "25\n",
            "15\n",
            "9\n",
            "19\n",
            "10\n",
            "25\n",
            "15\n",
            "21\n",
            "23\n",
            "27\n",
            "27\n",
            "19\n",
            "9\n",
            "27\n",
            "25\n",
            "25\n",
            "16\n",
            "18\n",
            "22\n",
            "29\n",
            "24\n",
            "27\n",
            "30\n",
            "7\n",
            "27\n",
            "21\n",
            "25\n",
            "14\n",
            "12\n",
            "24\n",
            "18\n",
            "10\n",
            "14\n",
            "28\n",
            "26\n",
            "19\n",
            "11\n",
            "10\n",
            "19\n",
            "30\n",
            "25\n",
            "21\n",
            "30\n",
            "10\n",
            "9\n",
            "27\n",
            "12\n",
            "30\n",
            "25\n",
            "18\n",
            "17\n",
            "29\n",
            "26\n",
            "30\n",
            "9\n",
            "7\n",
            "19\n",
            "16\n",
            "25\n",
            "28\n",
            "15\n",
            "24\n",
            "17\n",
            "7\n",
            "11\n",
            "12\n",
            "8\n",
            "7\n",
            "22\n",
            "26\n",
            "15\n",
            "18\n",
            "29\n",
            "26\n",
            "25\n",
            "18\n",
            "14\n",
            "11\n",
            "20\n",
            "26\n",
            "29\n",
            "23\n",
            "23\n",
            "16\n",
            "27\n"
          ]
        }
      ]
    }
  ]
}